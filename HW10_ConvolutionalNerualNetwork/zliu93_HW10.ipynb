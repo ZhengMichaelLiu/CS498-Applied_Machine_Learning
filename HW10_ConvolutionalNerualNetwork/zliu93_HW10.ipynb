{
 "cells": [
  {
   "cell_type": "markdown",
   "metadata": {
    "colab_type": "text",
    "id": "vUTgGUi4JEft"
   },
   "source": [
    "# Homework 10 - CIFAR10 Image Classification with PyTorch"
   ]
  },
  {
   "cell_type": "markdown",
   "metadata": {
    "colab_type": "text",
    "id": "T5Kx8gJBJEW_"
   },
   "source": [
    "## About"
   ]
  },
  {
   "cell_type": "markdown",
   "metadata": {
    "colab_type": "text",
    "id": "aRAalfd1GITX"
   },
   "source": [
    "The goal of the homework is to train a convolutional neural network on the standard CIFAR10 image classfication dataset.\n",
    "\n",
    "When solving machine learning tasks using neural networks, one typically starts with a simple network architecture and then improves the network by adding new layers, retraining, adjusting parameters, retraining, etc.  We attempt to illustrate this process below with several architecture improvements.\n"
   ]
  },
  {
   "cell_type": "markdown",
   "metadata": {
    "colab_type": "text",
    "id": "OCl5gakxJes-"
   },
   "source": [
    "## Dev Environment\n",
    "### Working on Google Colab\n",
    "You may choose to work locally or on Google Colaboratory. You have access to free compute through this service.   Colab is recommended since it will be setup correctly and will have access to GPU resources.\n",
    "1. Visit https://colab.research.google.com/drive \n",
    "2. Navigate to the **`Upload`** tab, and upload your `HW10.ipynb`\n",
    "3. Now on the top right corner, under the `Comment` and `Share` options, you should see a `Connect` option. Once you are connected, you will have access to a VM with 12GB RAM, 50 GB disk space and a single GPU. The dropdown menu will allow you to connect to a local runtime as well.\n",
    "\n",
    "**Notes:** \n",
    "* **If you do not have a working setup for Python 3, this is your best bet. It will also save you from heavy installations like `tensorflow` if you don't want to deal with those.**\n",
    "* ***There is a downside*. You can only use this instance for a single 12-hour stretch, after which your data will be deleted, and you would have redownload all your datasets, any libraries not already on the VM, and regenerate your logs**.\n",
    "\n",
    "\n",
    "### Installing PyTorch and Dependencies\n",
    "\n",
    "The instructions for installing and setting up PyTorch can be found at https://pytorch.org/get-started/locally/. Make sure you follow the instructions for your machine. For any of the remaining libraries used in this assignment:\n",
    "* We have provided a `hw8_requirements.txt` file on the homework web page. \n",
    "* Download this file, and in the same directory you can run `pip3 install -r hw8_requirements.txt`\n",
    "​\n",
    "Check that PyTorch installed correctly by running the following:"
   ]
  },
  {
   "cell_type": "code",
   "execution_count": 1,
   "metadata": {
    "colab": {},
    "colab_type": "code",
    "id": "IaJ6BLrAJeCU"
   },
   "outputs": [
    {
     "data": {
      "text/plain": [
       "tensor([[0.7857, 0.8031, 0.7748],\n",
       "        [0.6050, 0.9354, 0.0906],\n",
       "        [0.0144, 0.9835, 0.1560],\n",
       "        [0.6087, 0.4547, 0.7624],\n",
       "        [0.8794, 0.2052, 0.4635]])"
      ]
     },
     "execution_count": 1,
     "metadata": {},
     "output_type": "execute_result"
    }
   ],
   "source": [
    "import torch\n",
    "torch.rand(5, 3)"
   ]
  },
  {
   "cell_type": "markdown",
   "metadata": {
    "colab_type": "text",
    "id": "nEmmCk1IJiGn"
   },
   "source": [
    "## Part 0 Imports and Basic Setup  (5 Points)"
   ]
  },
  {
   "cell_type": "markdown",
   "metadata": {
    "colab_type": "text",
    "id": "Y3mTddKuXPBU"
   },
   "source": [
    "First, import the required libraries as follows. The libraries we will use will be the same as those in HW8. "
   ]
  },
  {
   "cell_type": "code",
   "execution_count": 2,
   "metadata": {
    "colab": {},
    "colab_type": "code",
    "id": "UwtDsq3VbrNY"
   },
   "outputs": [],
   "source": [
    "import numpy as np\n",
    "import torch\n",
    "from torch import nn\n",
    "from torch import optim\n",
    "\n",
    "import matplotlib.pyplot as plt"
   ]
  },
  {
   "cell_type": "markdown",
   "metadata": {
    "colab_type": "text",
    "id": "QWKp_UGlWTyR"
   },
   "source": [
    "**GPU Support**\n",
    "\n",
    "Training of large network can take a long time. PyTorch supports GPU with just a small amount of effort.\n",
    "\n",
    "When creating our networks, we will call \n",
    "`net.to(device)` to tell the network to train on the GPU, if one is available.  Note, if the network utilizes the GPU, it is important that any tensors we use with it (such as the data) also reside on the CPU.  Thus, a call like `images = images.to(device)` is necessary with any data we want to use with the GPU.\n",
    "\n",
    "Note: If you can't get access to a GPU, don't worry to much.  Since we use very small networks, the difference between CPU and GPU isn't large and in some cases GPU will actually be slower."
   ]
  },
  {
   "cell_type": "code",
   "execution_count": 3,
   "metadata": {
    "colab": {},
    "colab_type": "code",
    "id": "gbGGmnIXYca9"
   },
   "outputs": [
    {
     "name": "stdout",
     "output_type": "stream",
     "text": [
      "cuda:0\n"
     ]
    }
   ],
   "source": [
    "import torch.cuda as cuda\n",
    "\n",
    "# Use a GPU, i.e. cuda:0 device if it available.\n",
    "device = torch.device(\"cuda:0\" if cuda.is_available() else \"cpu\")\n",
    "print(device)"
   ]
  },
  {
   "cell_type": "markdown",
   "metadata": {},
   "source": [
    "### Training Code"
   ]
  },
  {
   "cell_type": "code",
   "execution_count": 4,
   "metadata": {
    "cellView": "form",
    "colab": {},
    "colab_type": "code",
    "id": "_DZm8ammPCbL"
   },
   "outputs": [],
   "source": [
    "import time\n",
    "\n",
    "class Flatten(nn.Module):\n",
    "  \"\"\"NN Module that flattens the incoming tensor.\"\"\"\n",
    "  def forward(self, input):\n",
    "    return input.view(input.size(0), -1)\n",
    "  \n",
    "def train(model, train_loader, test_loader, loss_func, opt, num_epochs=10):\n",
    "  all_training_loss = np.zeros((0,2))\n",
    "  all_training_acc = np.zeros((0,2))\n",
    "  all_test_loss = np.zeros((0,2))\n",
    "  all_test_acc = np.zeros((0,2))\n",
    "  \n",
    "  training_step = 0\n",
    "  training_loss, training_acc = 2.0, 0.0\n",
    "  print_every = 1000\n",
    "  \n",
    "  start = time.clock()\n",
    "  \n",
    "  for i in range(num_epochs):\n",
    "    epoch_start = time.clock() \n",
    "   \n",
    "    model.train()\n",
    "    for images, labels in train_loader:\n",
    "      images, labels = images.to(device), labels.to(device)\n",
    "      opt.zero_grad()\n",
    "\n",
    "      preds = model(images)\n",
    "      loss = loss_func(preds, labels)\n",
    "      loss.backward()\n",
    "      opt.step()\n",
    "      \n",
    "      training_loss += loss.item()\n",
    "      training_acc += (torch.argmax(preds, dim=1)==labels).float().mean()\n",
    "      \n",
    "      if training_step % print_every == 0:\n",
    "        training_loss /= print_every\n",
    "        training_acc /= print_every\n",
    "        \n",
    "        all_training_loss = np.concatenate((all_training_loss, [[training_step, training_loss]]))\n",
    "        all_training_acc = np.concatenate((all_training_acc, [[training_step, training_acc]]))\n",
    "        \n",
    "        print('  Epoch %d @ step %d: Train Loss: %3f, Train Accuracy: %3f' % (\n",
    "            i, training_step, training_loss, training_acc))\n",
    "        training_loss, training_acc = 0.0, 0.0\n",
    "        \n",
    "      training_step+=1\n",
    "\n",
    "    model.eval()\n",
    "    with torch.no_grad():\n",
    "      validation_loss, validation_acc = 0.0, 0.0\n",
    "      count = 0\n",
    "      for images, labels in test_loader:\n",
    "        images, labels = images.to(device), labels.to(device)\n",
    "        output = model(images)\n",
    "        validation_loss+=loss_func(output,labels)\n",
    "        validation_acc+=(torch.argmax(output, dim=1) == labels).float().mean()\n",
    "        count += 1\n",
    "      validation_loss/=count\n",
    "      validation_acc/=count\n",
    "      \n",
    "      all_test_loss = np.concatenate((all_test_loss, [[training_step, validation_loss]]))\n",
    "      all_test_acc = np.concatenate((all_test_acc, [[training_step, validation_acc]]))\n",
    "      \n",
    "      epoch_time = time.clock() - epoch_start\n",
    "      \n",
    "      print('Epoch %d Test Loss: %3f, Test Accuracy: %3f, time: %.1fs' % (\n",
    "          i, validation_loss, validation_acc, epoch_time))\n",
    "      \n",
    "  total_time = time.clock() - start\n",
    "  print('Final Test Loss: %3f, Test Accuracy: %3f, Total time: %.1fs' % (\n",
    "      validation_loss, validation_acc, total_time))\n",
    "\n",
    "  return {'loss': { 'train': all_training_loss, 'test': all_test_loss },\n",
    "          'accuracy': { 'train': all_training_acc, 'test': all_test_acc }}\n",
    "\n",
    "def plot_graphs(model_name, metrics):\n",
    "  for metric, values in metrics.items():\n",
    "    for name, v in values.items():\n",
    "      plt.plot(v[:,0], v[:,1], label=name)\n",
    "    plt.title(f'{metric} for {model_name}')\n",
    "    plt.legend()\n",
    "    plt.xlabel(\"Training Steps\")\n",
    "    plt.ylabel(metric)\n",
    "    plt.show()\n",
    "    "
   ]
  },
  {
   "cell_type": "markdown",
   "metadata": {
    "colab_type": "text",
    "id": "1RupXQbCaXb3"
   },
   "source": [
    "Load the** CIFA-10** dataset and define the transformations. You may also want to print its structure, size, as well as sample a few images to get a sense of how to design the network. "
   ]
  },
  {
   "cell_type": "code",
   "execution_count": 5,
   "metadata": {
    "colab": {},
    "colab_type": "code",
    "id": "mIJmLIgaZ_d3"
   },
   "outputs": [
    {
     "name": "stderr",
     "output_type": "stream",
     "text": [
      "A subdirectory or file hw10_data already exists.\n"
     ]
    }
   ],
   "source": [
    "!mkdir hw10_data"
   ]
  },
  {
   "cell_type": "code",
   "execution_count": 7,
   "metadata": {
    "colab": {},
    "colab_type": "code",
    "id": "aDBbPmPPaQuG"
   },
   "outputs": [
    {
     "name": "stdout",
     "output_type": "stream",
     "text": [
      "Files already downloaded and verified\n",
      "Files already downloaded and verified\n"
     ]
    }
   ],
   "source": [
    "# Download the data.\n",
    "from torchvision import datasets, transforms\n",
    "\n",
    "train_transformations = transforms.Compose([transforms.RandomHorizontalFlip(),\\\n",
    "                                            transforms.RandomRotation(10),\\\n",
    "                                            transforms.ToTensor(),\\\n",
    "                                            transforms.Normalize((0.5, 0.5, 0.5), (0.5, 0.5, 0.5))])\n",
    "\n",
    "test_transformations = transforms.Compose([transforms.ToTensor(),\\\n",
    "                                           transforms.Normalize((0.5, 0.5, 0.5), (0.5, 0.5, 0.5))])\n",
    "train_set = datasets.CIFAR10(root='hw10_data/', download=True, transform=train_transformations)\n",
    "test_set = datasets.CIFAR10(root='hw10_data', download=True, train=False, transform=test_transformations)"
   ]
  },
  {
   "cell_type": "markdown",
   "metadata": {
    "colab_type": "text",
    "id": "dfomsGyJiKz9"
   },
   "source": [
    "Use `DataLoader` to create a loader for the training set and a loader for the testing set. You can use a `batch_size` of 8 to start, and change it if you wish."
   ]
  },
  {
   "cell_type": "code",
   "execution_count": 8,
   "metadata": {
    "colab": {},
    "colab_type": "code",
    "id": "Ioe04mbSiQiV"
   },
   "outputs": [],
   "source": [
    "from torch.utils.data import DataLoader\n",
    "\n",
    "batch_size = 50\n",
    "train_loader = torch.utils.data.DataLoader(train_set, batch_size, shuffle=True, num_workers=2)\n",
    "test_loader = torch.utils.data.DataLoader(test_set, batch_size, shuffle=True, num_workers=2)\n",
    "\n",
    "input_shape = np.array(train_set[0][0]).shape\n",
    "input_dim = input_shape[1]*input_shape[2]*input_shape[0]\n"
   ]
  },
  {
   "cell_type": "code",
   "execution_count": 9,
   "metadata": {
    "colab": {},
    "colab_type": "code",
    "id": "fGoPdmuUOOiE"
   },
   "outputs": [],
   "source": [
    "training_epochs = 5"
   ]
  },
  {
   "cell_type": "code",
   "execution_count": null,
   "metadata": {},
   "outputs": [],
   "source": [
    "#print(input_shape) (3, 32, 32)\n",
    "#print(input_dim) 3072\n",
    "#print(len(train_set)) 50000\n",
    "#print(len(test_set))  10000"
   ]
  },
  {
   "cell_type": "markdown",
   "metadata": {
    "colab_type": "text",
    "id": "3T2-qkh8frqF"
   },
   "source": [
    "## Part 1 CIFAR10 with Fully Connected Neural Netowrk (25 Points)\n",
    "\n",
    "As a warm-up, let's begin by training a two-layer fully connected neural network model on ** CIFAR-10** dataset. You may go back to check HW8 for some basics.\n",
    "\n",
    "We will give you this code to use as a baseline to compare against your CNN models."
   ]
  },
  {
   "cell_type": "code",
   "execution_count": null,
   "metadata": {
    "colab": {},
    "colab_type": "code",
    "id": "Ck1CGpRycRFE"
   },
   "outputs": [],
   "source": [
    "# Run as administrator\n",
    "class TwoLayerModel(nn.Module):\n",
    "  def __init__(self):\n",
    "    super(TwoLayerModel, self).__init__()\n",
    "    self.net = nn.Sequential(\n",
    "      Flatten(), \n",
    "      nn.Linear(input_dim, 64), \n",
    "      nn.ReLU(), \n",
    "      nn.Linear(64, 10))\n",
    "    \n",
    "  def forward(self, x):\n",
    "    return self.net(x)\n",
    "\n",
    "model = TwoLayerModel().to(device)\n",
    "\n",
    "loss = nn.CrossEntropyLoss()\n",
    "optimizer = optim.RMSprop(model.parameters(), lr=0.001, weight_decay=0.01)\n",
    "\n",
    "# Training epoch should be about 15-20 sec each on GPU.\n",
    "metrics = train(model, train_loader, test_loader, loss, optimizer, training_epochs)"
   ]
  },
  {
   "cell_type": "markdown",
   "metadata": {
    "colab_type": "text",
    "id": "qjbncuMnKpf7"
   },
   "source": [
    "**Plot the model results**\n",
    "\n",
    "Normally we would want to use Tensorboard for looking at metrics.  However, if colab reset while we are working, we might lose our logs and therefore our metrics.  Let's just plot some graphs that will survive across colab instances."
   ]
  },
  {
   "cell_type": "code",
   "execution_count": null,
   "metadata": {
    "colab": {},
    "colab_type": "code",
    "id": "CuVL9MJ_D92h"
   },
   "outputs": [],
   "source": [
    "plot_graphs(\"TwoLayerModel\", metrics)"
   ]
  },
  {
   "cell_type": "markdown",
   "metadata": {
    "colab_type": "text",
    "id": "4_xi8bkkfsM7"
   },
   "source": [
    "## Part 2 Convolutional Neural Network (CNN) (35 Points)\n",
    "\n",
    "Now, let's design a convolution neural netwrok!\n",
    "\n",
    "Build a simple CNN model, inserting 2 CNN layers in from of our 2 layer fully connect model from above:\n",
    "\n",
    "1. A convolution with\t3x3 filter, 16 output channels, stride = 1, padding=1\n",
    "2. A ReLU activation\n",
    "2. A Max-Pooling layer with 2x2 window\n",
    "3. A convolution,\t3x3 filter, 16 output channels, stride = 1, padding=1\n",
    "4. A ReLU activation\n",
    "4. Flatten layer\n",
    "5. Fully connected linear layer with output size 64\n",
    "6. ReLU\n",
    "7. Fully connected linear layer, with output size 10\n",
    "\n",
    "You will have to figure out the input sizes of the first fully connnected layer based on the previous layer sizes. Note that you also need to fill those in the report section (see report section in the notebook for details) "
   ]
  },
  {
   "cell_type": "code",
   "execution_count": null,
   "metadata": {
    "colab": {},
    "colab_type": "code",
    "id": "tLXjjywngO7g"
   },
   "outputs": [],
   "source": [
    "class ConvModel(nn.Module):\n",
    "  # Your Code Here\n",
    "  def __init__(self):\n",
    "    super(ConvModel, self).__init__()\n",
    "    self.net = nn.Sequential(\n",
    "      #Input channels = input_dim, output channels = 16\n",
    "      nn.Conv2d(in_channels = 3, out_channels = 16, kernel_size = 3, stride = 1, padding = 1),\n",
    "      nn.ReLU(), \n",
    "      nn.MaxPool2d(kernel_size=2, padding=0), \n",
    "      nn.Conv2d(in_channels = 16, out_channels = 16, kernel_size = 3, stride = 1, padding = 1),\n",
    "      nn.ReLU(),\n",
    "      Flatten(),\n",
    "      nn.Linear(16*16*16, 64),\n",
    "      nn.ReLU(), \n",
    "      nn.Linear(64, 10))\n",
    "    \n",
    "  def forward(self, x):\n",
    "    return self.net(x)\n",
    "  \n",
    "model = ConvModel().to(device)\n",
    "\n",
    "loss = nn.CrossEntropyLoss()\n",
    "optimizer = optim.RMSprop(model.parameters(), lr=0.001, weight_decay=0.01)\n",
    "\n",
    "metrics = train(model, train_loader, test_loader, loss, optimizer, training_epochs)"
   ]
  },
  {
   "cell_type": "code",
   "execution_count": null,
   "metadata": {
    "colab": {},
    "colab_type": "code",
    "id": "8BGTJw-TPTfh"
   },
   "outputs": [],
   "source": [
    "plot_graphs(\"ConvModel\", metrics)"
   ]
  },
  {
   "cell_type": "markdown",
   "metadata": {
    "colab_type": "text",
    "id": "oFAc6IORmzCJ"
   },
   "source": [
    "Do you notice the improvement over the accuracy compared to that in Part 1?\n",
    "\n",
    "Yes I noticed. The accuracy improved from 0.4078 to 0.5744."
   ]
  },
  {
   "cell_type": "markdown",
   "metadata": {
    "colab_type": "text",
    "id": "hXpJgsjhftDP"
   },
   "source": [
    "## Part 3 Open Design Competition (35 Points + 10 bonus points)\n",
    "\n",
    "Try to beat the previous models by adding additional layers, changing parameters, etc.  You should add at least one layer.\n",
    "\n",
    "Possible changes include:\n",
    "*   Dropout\n",
    "*   Batch Normalization\n",
    "*   More layers\n",
    "*   Residual Connections (harder)\n",
    "*   Change layer size\n",
    "*   Pooling layers, stride\n",
    "*   Different optimizer\n",
    "*   Train for longer\n",
    "\n",
    "Once you have a model you think is great, evaluate it against our hidden test data (see hidden_loader above) and upload the results to the leader board on gradescope.  **The top 3 scorers will get a bonus 10 points.**\n",
    "\n",
    "You can steal model structures found on the internet if you want.  The only constraint is that **you must train the model from scratch**.\n"
   ]
  },
  {
   "cell_type": "code",
   "execution_count": 10,
   "metadata": {
    "colab": {},
    "colab_type": "code",
    "id": "QZFkuraiZOaT"
   },
   "outputs": [
    {
     "name": "stdout",
     "output_type": "stream",
     "text": [
      "  Epoch 0 @ step 0: Train Loss: 0.009564, Train Accuracy: 0.000000\n",
      "Epoch 0 Test Loss: 1.354918, Test Accuracy: 0.526300, time: 325.3s\n",
      "  Epoch 1 @ step 1000: Train Loss: 1.788275, Train Accuracy: 0.353260\n",
      "Epoch 1 Test Loss: 1.081275, Test Accuracy: 0.632900, time: 326.6s\n",
      "  Epoch 2 @ step 2000: Train Loss: 1.250324, Train Accuracy: 0.561799\n",
      "Epoch 2 Test Loss: 1.045521, Test Accuracy: 0.649600, time: 326.1s\n",
      "  Epoch 3 @ step 3000: Train Loss: 1.037729, Train Accuracy: 0.645720\n",
      "Epoch 3 Test Loss: 0.796187, Test Accuracy: 0.731000, time: 325.6s\n",
      "  Epoch 4 @ step 4000: Train Loss: 0.900058, Train Accuracy: 0.700520\n",
      "Epoch 4 Test Loss: 0.711048, Test Accuracy: 0.759400, time: 325.9s\n",
      "  Epoch 5 @ step 5000: Train Loss: 0.791997, Train Accuracy: 0.738780\n",
      "Epoch 5 Test Loss: 0.639903, Test Accuracy: 0.788000, time: 326.0s\n",
      "  Epoch 6 @ step 6000: Train Loss: 0.713575, Train Accuracy: 0.768080\n",
      "Epoch 6 Test Loss: 0.624839, Test Accuracy: 0.794400, time: 325.9s\n",
      "  Epoch 7 @ step 7000: Train Loss: 0.655000, Train Accuracy: 0.786762\n",
      "Epoch 7 Test Loss: 0.600100, Test Accuracy: 0.802200, time: 326.2s\n",
      "  Epoch 8 @ step 8000: Train Loss: 0.594889, Train Accuracy: 0.807721\n",
      "Epoch 8 Test Loss: 0.607769, Test Accuracy: 0.803800, time: 328.8s\n",
      "  Epoch 9 @ step 9000: Train Loss: 0.559602, Train Accuracy: 0.820142\n",
      "Epoch 9 Test Loss: 0.586506, Test Accuracy: 0.800300, time: 325.0s\n",
      "Final Test Loss: 0.586506, Test Accuracy: 0.800300, Total time: 3261.4s\n"
     ]
    }
   ],
   "source": [
    "import torchvision.models as models\n",
    "asb_training_epochs = 10\n",
    "# You Awesome Super Best model code here\n",
    "class ConvModel2(nn.Module):\n",
    "  # Your Code Here\n",
    "  def __init__(self):\n",
    "    super(ConvModel2, self).__init__()\n",
    "    '''\n",
    "    self.net = nn.Sequential(\n",
    "      # Convolution with 64 different filters in size of (3x3)\n",
    "      nn.Conv2d(in_channels = 3, out_channels = 64, kernel_size = 3, stride = 1, padding = 1),\n",
    "      # Max Pooling by 2\n",
    "      # nn.MaxPool2d(kernel_size=2, padding=0),\n",
    "      # - Batch Normalization\n",
    "      nn.BatchNorm2d(64),\n",
    "      # - ReLU activation function\n",
    "      nn.ReLU(),\n",
    "\n",
    "      # Convolution with 64 different filters in size of (3x3)\n",
    "      nn.Conv2d(in_channels = 64, out_channels = 64, kernel_size = 3, stride = 1, padding = 1),\n",
    "      # Max Pooling by 2\n",
    "      # nn.MaxPool2d(kernel_size=2, padding=0),\n",
    "      # - Batch Normalization\n",
    "      nn.BatchNorm2d(64),\n",
    "      # - ReLU activation function\n",
    "      nn.ReLU(),\n",
    "\n",
    "\n",
    "      # Convolution with 64 different filters in size of (3x3)\n",
    "      nn.Conv2d(in_channels = 64, out_channels = 64, kernel_size = 3, stride = 1, padding = 1),\n",
    "      # Max Pooling by 2\n",
    "      # nn.MaxPool2d(kernel_size=2, padding=0),\n",
    "      # - Batch Normalization\n",
    "      nn.BatchNorm2d(64),\n",
    "      # - ReLU activation function\n",
    "      nn.ReLU(),\n",
    "\n",
    "      # Convolution with 64 different filters in size of (3x3)\n",
    "      nn.Conv2d(in_channels = 64, out_channels = 64, kernel_size = 3, stride = 1, padding = 1),\n",
    "      # Max Pooling by 2\n",
    "      # nn.MaxPool2d(kernel_size=2, padding=0),\n",
    "      # - Batch Normalization\n",
    "      nn.BatchNorm2d(64),\n",
    "      # - ReLU activation function\n",
    "      nn.ReLU(),\n",
    "\n",
    "      # Convolution with 64 different filters in size of (3x3)\n",
    "      nn.Conv2d(in_channels = 64, out_channels = 64, kernel_size = 3, stride = 1, padding = 1),\n",
    "      # Max Pooling by 2\n",
    "      nn.MaxPool2d(kernel_size=2, padding=0),\n",
    "      # - Batch Normalization\n",
    "      nn.BatchNorm2d(64),\n",
    "      # - ReLU activation function\n",
    "      nn.ReLU(),\n",
    "\n",
    "      # Convolution with 128 different filters in size of (3x3)\n",
    "      nn.Conv2d(in_channels = 64, out_channels = 128, kernel_size = 3, stride = 1, padding = 1),\n",
    "      # Max Pooling by 2\n",
    "      #nn.MaxPool2d(kernel_size=2, padding=0),\n",
    "      # - Batch Normalization\n",
    "      nn.BatchNorm2d(128),\n",
    "      # - ReLU activation function\n",
    "      nn.ReLU(),\n",
    "\n",
    "      # Convolution with 128 different filters in size of (3x3)\n",
    "      nn.Conv2d(in_channels = 128, out_channels = 128, kernel_size = 3, stride = 1, padding = 1),\n",
    "      # Max Pooling by 2\n",
    "      #nn.MaxPool2d(kernel_size=2, padding=0),\n",
    "      # - Batch Normalization\n",
    "      nn.BatchNorm2d(128),\n",
    "      # - ReLU activation function\n",
    "      nn.ReLU(),\n",
    "\n",
    "      # Convolution with 128 different filters in size of (3x3)\n",
    "      nn.Conv2d(in_channels = 128, out_channels = 128, kernel_size = 3, stride = 1, padding = 1),\n",
    "      # Max Pooling by 2\n",
    "      #nn.MaxPool2d(kernel_size=2, padding=0),\n",
    "      # - Batch Normalization\n",
    "      nn.BatchNorm2d(128),\n",
    "      # - ReLU activation function\n",
    "      nn.ReLU(),\n",
    "\n",
    "      # Convolution with 128 different filters in size of (3x3)\n",
    "      nn.Conv2d(in_channels = 128, out_channels = 128, kernel_size = 3, stride = 1, padding = 1),\n",
    "      # Max Pooling by 2\n",
    "      #nn.MaxPool2d(kernel_size=2, padding=0),\n",
    "      # - Batch Normalization\n",
    "      nn.BatchNorm2d(128),\n",
    "      # - ReLU activation function\n",
    "      nn.ReLU(),\n",
    "\n",
    "      # Convolution with 128 different filters in size of (3x3)\n",
    "      nn.Conv2d(in_channels = 128, out_channels = 128, kernel_size = 3, stride = 1, padding = 1),\n",
    "      # Max Pooling by 2\n",
    "      nn.MaxPool2d(kernel_size=2, padding=0),\n",
    "      # - Batch Normalization\n",
    "      nn.BatchNorm2d(128),\n",
    "      # - ReLU activation function\n",
    "      nn.ReLU(),\n",
    "\n",
    "      # Convolution with 256 different filters in size of (3x3)\n",
    "      nn.Conv2d(in_channels = 128, out_channels = 256, kernel_size = 3, stride = 1, padding = 1),\n",
    "      # Max Pooling by 2\n",
    "      # nn.MaxPool2d(kernel_size=2, padding=0),\n",
    "      # - Batch Normalization\n",
    "      nn.BatchNorm2d(256),\n",
    "      # - ReLU activation function\n",
    "      nn.ReLU(),\n",
    "\n",
    "      # Convolution with 256 different filters in size of (3x3)\n",
    "      nn.Conv2d(in_channels = 256, out_channels = 256, kernel_size = 3, stride = 1, padding = 1),\n",
    "      # Max Pooling by 2\n",
    "      # nn.MaxPool2d(kernel_size=2, padding=0),\n",
    "      # - Batch Normalization\n",
    "      nn.BatchNorm2d(256),\n",
    "      # - ReLU activation function\n",
    "      nn.ReLU(),\n",
    "\n",
    "      # Convolution with 256 different filters in size of (3x3)\n",
    "      nn.Conv2d(in_channels = 256, out_channels = 256, kernel_size = 3, stride = 1, padding = 1),\n",
    "      # Max Pooling by 2\n",
    "      # nn.MaxPool2d(kernel_size=2, padding=0),\n",
    "      # - Batch Normalization\n",
    "      nn.BatchNorm2d(256),\n",
    "      # - ReLU activation function\n",
    "      nn.ReLU(),\n",
    "\n",
    "      # Convolution with 256 different filters in size of (3x3)\n",
    "      nn.Conv2d(in_channels = 256, out_channels = 256, kernel_size = 3, stride = 1, padding = 1),\n",
    "      # Max Pooling by 2\n",
    "      # nn.MaxPool2d(kernel_size=2, padding=0),\n",
    "      # - Batch Normalization\n",
    "      nn.BatchNorm2d(256),\n",
    "      # - ReLU activation function\n",
    "      nn.ReLU(),\n",
    "\n",
    "      # Convolution with 256 different filters in size of (3x3)\n",
    "      nn.Conv2d(in_channels = 256, out_channels = 256, kernel_size = 3, stride = 1, padding = 1),\n",
    "      # Max Pooling by 2\n",
    "      nn.MaxPool2d(kernel_size=2, padding=0),\n",
    "      # - Batch Normalization\n",
    "      nn.BatchNorm2d(256),\n",
    "      # - ReLU activation function\n",
    "      nn.ReLU(),\n",
    "\n",
    "\n",
    "      # Convolution with 512 different filters in size of (3x3)\n",
    "      nn.Conv2d(in_channels = 256, out_channels = 512, kernel_size = 3, stride = 1, padding = 1),\n",
    "      # Max Pooling by 2\n",
    "      # nn.MaxPool2d(kernel_size=2, padding=0),\n",
    "      # - Batch Normalization\n",
    "      nn.BatchNorm2d(512),\n",
    "      # - ReLU activation function\n",
    "      nn.ReLU(),\n",
    "\n",
    "      # Convolution with 512 different filters in size of (3x3)\n",
    "      nn.Conv2d(in_channels = 512, out_channels = 512, kernel_size = 3, stride = 1, padding = 1),\n",
    "      # Max Pooling by 2\n",
    "      # nn.MaxPool2d(kernel_size=2, padding=0),\n",
    "      # - Batch Normalization\n",
    "      nn.BatchNorm2d(512),\n",
    "      # - ReLU activation function\n",
    "      nn.ReLU(),\n",
    "\n",
    "      # Convolution with 512 different filters in size of (3x3)\n",
    "      nn.Conv2d(in_channels = 512, out_channels = 512, kernel_size = 3, stride = 1, padding = 1),\n",
    "      # Max Pooling by 2\n",
    "      # nn.MaxPool2d(kernel_size=2, padding=0),\n",
    "      # - Batch Normalization\n",
    "      nn.BatchNorm2d(512),\n",
    "      # - ReLU activation function\n",
    "      nn.ReLU(),\n",
    "\n",
    "      # Convolution with 512 different filters in size of (3x3)\n",
    "      nn.Conv2d(in_channels = 512, out_channels = 512, kernel_size = 3, stride = 1, padding = 1),\n",
    "      # Max Pooling by 2\n",
    "      # nn.MaxPool2d(kernel_size=2, padding=0),\n",
    "      # - Batch Normalization\n",
    "      nn.BatchNorm2d(512),\n",
    "      # - ReLU activation function\n",
    "      nn.ReLU(),\n",
    "\n",
    "      # Convolution with 512 different filters in size of (3x3)\n",
    "      nn.Conv2d(in_channels = 512, out_channels = 512, kernel_size = 3, stride = 1, padding = 1),\n",
    "      # Max Pooling by 2\n",
    "      nn.MaxPool2d(kernel_size=2, padding=0),\n",
    "      # - Batch Normalization\n",
    "      nn.BatchNorm2d(512),\n",
    "      # - ReLU activation function\n",
    "      nn.ReLU(),\n",
    "\n",
    "      # Flattening the 3-D output of the last convolving operations.\n",
    "      Flatten(),\n",
    "\n",
    "      # Fully Connected Layer with 128 units\n",
    "      nn.Linear(2*2*512, 512),\n",
    "      nn.ReLU(),\n",
    "      # - Dropout\n",
    "      nn.Dropout(p = 0.25),\n",
    "      # - Batch Normalization\n",
    "      nn.BatchNorm1d(512),\n",
    "\n",
    "      # Fully Connected Layer with 512 units\n",
    "      nn.Linear(512, 1024),\n",
    "      nn.ReLU(),\n",
    "      # - Dropout\n",
    "      nn.Dropout(p = 0.25),\n",
    "      # - Batch Normalization\n",
    "      nn.BatchNorm1d(1024),\n",
    "\n",
    "      nn.Linear(1024, 10))\n",
    "    '''\n",
    "    self.net = models.vgg19_bn(pretrained=False)\n",
    "  def forward(self, x):\n",
    "    # <<TODO#3&#4>> Based on the above edits, you'll have\n",
    "    # to edit the forward pass description here.\n",
    "    return self.net(x)\n",
    "        \n",
    "model3 = ConvModel2().to(device)\n",
    "\n",
    "loss = nn.CrossEntropyLoss()\n",
    "optimizer = optim.Adam(model3.parameters(), lr=0.0001)\n",
    "\n",
    "metrics = train(model3, train_loader, test_loader, loss, optimizer, asb_training_epochs)"
   ]
  },
  {
   "cell_type": "markdown",
   "metadata": {
    "colab_type": "text",
    "id": "xbx5REUdc-Xs"
   },
   "source": [
    "**What changes did you make to improve your model?**"
   ]
  },
  {
   "cell_type": "code",
   "execution_count": 11,
   "metadata": {
    "colab": {},
    "colab_type": "code",
    "id": "uItu0w4fZTuG"
   },
   "outputs": [
    {
     "data": {
      "image/png": "[encoded data removed]",
      "text/plain": [
       "<Figure size 432x288 with 1 Axes>"
      ]
     },
     "metadata": {},
     "output_type": "display_data"
    },
    {
     "data": {
      "image/png": "[encoded data removed]",
      "text/plain": [
       "<Figure size 432x288 with 1 Axes>"
      ]
     },
     "metadata": {},
     "output_type": "display_data"
    }
   ],
   "source": [
    "plot_graphs(\"AwesomeModel\", metrics)"
   ]
  },
  {
   "cell_type": "markdown",
   "metadata": {
    "colab_type": "text",
    "id": "rWlP2WsodgK0"
   },
   "source": [
    "After you get a nice model, download the test_file.zip and unzip it to get test_file.pt. In colab, you can explore your files from the left side bar. You can also download the files to your machine from there."
   ]
  },
  {
   "cell_type": "code",
   "execution_count": 12,
   "metadata": {
    "colab": {},
    "colab_type": "code",
    "id": "Z6UZInUCdfQ1"
   },
   "outputs": [],
   "source": [
    "#!wget http://courses.engr.illinois.edu/cs498aml/sp2019/homeworks/test_file.zip\n",
    "#!unzip test_file.zip"
   ]
  },
  {
   "cell_type": "markdown",
   "metadata": {
    "colab_type": "text",
    "id": "7g5caFPreMLT"
   },
   "source": [
    "Then use your model to predict the label of the test images. Fill the remaining code below, where x has two dimensions (batch_size x one image size). Remember to reshpe x accordingly before feeding it into your model. The submission.txt should contain one predicted label (0~9) each line. Submit your submission.txt to the competition in gradscope."
   ]
  },
  {
   "cell_type": "code",
   "execution_count": 13,
   "metadata": {
    "colab": {},
    "colab_type": "code",
    "id": "yNdYAH9XeLlb"
   },
   "outputs": [],
   "source": [
    "import torch.utils.data as Data\n",
    "\n",
    "test_file = 'test_file.pt'\n",
    "pred_file = 'submission.txt'\n",
    "\n",
    "f_pred = open(pred_file,'w') \n",
    "tensor = torch.load(test_file)\n",
    "torch_dataset = Data.TensorDataset(tensor)  \n",
    "test_loader2 = torch.utils.data.DataLoader(torch_dataset, batch_size, shuffle=False, num_workers=2)"
   ]
  },
  {
   "cell_type": "code",
   "execution_count": 14,
   "metadata": {},
   "outputs": [],
   "source": [
    "model3.eval()\n",
    "for ele in test_loader2:\n",
    "  x = ele[0]\n",
    "  # Fill your code here\n",
    "  x_reshaped = x.reshape((batch_size, 3, 32, 32)).to(device)\n",
    "  output = model3(x_reshaped)\n",
    "  labels = torch.argmax(output, dim = 1)\n",
    "  for i in range(batch_size):\n",
    "    f_pred.write(str(labels[i].item()) + '\\n')\n",
    "  #f_pred.write('\\n')\n",
    "f_pred.close()"
   ]
  },
  {
   "cell_type": "markdown",
   "metadata": {
    "colab_type": "text",
    "id": "8-L6F0CMqc-A"
   },
   "source": [
    "\n",
    "# Report\n",
    "\n",
    "## Part 0: Imports and Basic Setup (5 Points)\n",
    "Nothing to report for this part. You will be just scored for finishing the setup.\n",
    "\n",
    "## Part 1: Fully connected neural networks (25 Points)\n",
    "\n",
    "Test (on validation set) accuracy (5 Points):\n",
    "\n",
    "Test loss (5 Points):\n",
    "\n",
    "Training time (5 Points):\n",
    "\n",
    "\n",
    "Plots:\n",
    "\n",
    "- Plot a graph of accuracy on validation set vs training steps (5 Points)\n",
    "\n",
    "- Plot a graph of loss on validation set vs training steps (5 Points)\n",
    "\n",
    "\n",
    "## Part 2: Convolution Network (Basic) (35 Points)\n",
    "\n",
    "Tensor dimensions: A good way to debug your network for size mismatches is to print the dimension of output after every layers:\n",
    "\n",
    "(10 Points)\n",
    "\n",
    "Output dimension after 1st conv layer: \n",
    "\n",
    "Output dimension after 1st max pooling: \n",
    "\n",
    "Output dimension after 2nd conv layer: \n",
    "\n",
    "Output dimension after flatten layer:\n",
    "\n",
    "Output dimension after 1st fully connected layer:\n",
    "\n",
    "Output dimension after 2nd fully connected layer:\n",
    "\n",
    "\n",
    "Test (on validation set) Accuracy (5 Points):\n",
    "\n",
    "Test loss (5 Points):\n",
    "\n",
    "Training time (5 Points):\n",
    "\n",
    "\n",
    "Plots:\n",
    "\n",
    "- Plot a graph of accuracy on validation set vs training steps (5 Points)\n",
    "\n",
    "- Plot a graph of loss on validation set vs training steps (5 Points)\n",
    "\n",
    "\n",
    "\n",
    "## Part 3: Convolution Network (Add one or more  suggested changes) (35 Points)\n",
    "\n",
    "Describe the additional changes implemented, your intuition for as to why it works, you may also describe other approaches you experimented with (10 Points):\n",
    "\n",
    "\n",
    "Test (on validation set) Accuracy (5 Points):\n",
    "\n",
    "Test loss (5 Points):\n",
    "\n",
    "Training time (5 Points):\n",
    "\n",
    "\n",
    "Plots:\n",
    "\n",
    "- Plot a graph of accuracy on validation set vs training steps (5 Points)\n",
    "\n",
    "- Plot a graph of loss on validation set vs training steps (5 Points)\n",
    "\n",
    "10 bonus points will be awarded to top 3 scorers on leaderboard (in case of tie for 3rd position everyone tied for 3rd position will get the bonus)"
   ]
  },
  {
   "cell_type": "code",
   "execution_count": null,
   "metadata": {},
   "outputs": [],
   "source": []
  }
 ],
 "metadata": {
  "accelerator": "GPU",
  "colab": {
   "collapsed_sections": [],
   "name": "AML_HW10.ipynb",
   "provenance": [],
   "version": "0.3.2"
  },
  "kernelspec": {
   "display_name": "Python 3",
   "language": "python",
   "name": "python3"
  },
  "language_info": {
   "codemirror_mode": {
    "name": "ipython",
    "version": 3
   },
   "file_extension": ".py",
   "mimetype": "text/x-python",
   "name": "python",
   "nbconvert_exporter": "python",
   "pygments_lexer": "ipython3",
   "version": "3.6.8"
  }
 },
 "nbformat": 4,
 "nbformat_minor": 1
}
